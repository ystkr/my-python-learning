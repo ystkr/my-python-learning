{
 "cells": [
  {
   "cell_type": "code",
   "execution_count": 91,
   "metadata": {},
   "outputs": [],
   "source": [
    "import numpy as np\n",
    "import pandas as pd\n",
    "from scipy import stats\n",
    "import matplotlib as mpl\n",
    "import matplotlib.pyplot as plt\n",
    "import seaborn as sns\n",
    "%matplotlib inline"
   ]
  },
  {
   "cell_type": "markdown",
   "metadata": {},
   "source": [
    "- 帰無仮説(H0)：性によって生存率は変わらない\n",
    "- 対立仮説(H1)：性によって生存率は変わる\n"
   ]
  },
  {
   "cell_type": "code",
   "execution_count": 130,
   "metadata": {},
   "outputs": [
    {
     "name": "stdout",
     "output_type": "stream",
     "text": [
      "----------------------------\n",
      "age=[0-5]\n",
      "ecpected=[16.204545454545457, 14.795454545454547]\n",
      "actual=[15, 16]\n",
      "カイ二乗統計量= 0.19\n",
      "P値 = 0.66\n",
      "----------------------------\n",
      "age=[0-10]\n",
      "ecpected=[19.59375, 18.40625]\n",
      "actual=[19, 19]\n",
      "カイ二乗統計量= 0.04\n",
      "P値 = 0.85\n",
      "----------------------------\n",
      "age=[11-15]\n",
      "ecpected=[4.052631578947368, 6.947368421052632]\n",
      "actual=[2, 9]\n",
      "カイ二乗統計量= 1.65\n",
      "P値 = 0.20\n",
      "----------------------------\n",
      "age=[16-20]\n",
      "ecpected=[21.3125, 11.6875]\n",
      "actual=[8, 25]\n",
      "カイ二乗統計量= 23.48\n",
      "P値 = 0.00\n",
      "----------------------------\n",
      "age=[21-100]\n",
      "ecpected=[136.32958801498128, 71.67041198501873]\n",
      "actual=[64, 144]\n",
      "カイ二乗統計量= 111.37\n",
      "P値 = 0.00\n"
     ]
    }
   ],
   "source": [
    "def chi_test(min_age, max_age):\n",
    "    # kaggleのタイタニックデータを参照\n",
    "    df = pd.read_csv('train.csv')\n",
    "    # 対象を限定する\n",
    "    df = df[(df.Age >= min_age) & (df.Age <= max_age)]\n",
    "    # sns.countplot(x='Sex', data=df, hue='Survived')\n",
    "    survive_count = len(df[df.Survived == 1])\n",
    "    dead_count = len(df[df.Survived == 0])\n",
    "    male_count = len(df[df.Sex == 'male'])\n",
    "    female_count = len(df[df.Sex == 'female'])\n",
    "\n",
    "    # 帰無仮説が正しい時の期待結果（[男性生存者数, 女性生存者数]）\n",
    "    survive_rate = survive_count/(survive_count+dead_count)\n",
    "    expected = [male_count*survive_rate, female_count*survive_rate]\n",
    "    \n",
    "    df_survived = df[df['Survived'] == 1]\n",
    "    # 実際の人数（[男性生存者数, 女性生存者数]）\n",
    "    actual = [len(df_survived[df_survived.Sex == 'male']), len(df_survived[df_survived.Sex == 'female'])]\n",
    "    \n",
    "    chisq,p = stats.chisquare(actual,expected)\n",
    "    print('----------------------------')\n",
    "    print('age=[{:d}-{:d}]'.format(min_age, max_age))\n",
    "    print('ecpected=', end='')\n",
    "    print(expected)\n",
    "    print('actual=', end='')\n",
    "    print(actual)\n",
    "    print('カイ二乗統計量= {:0.2f}'.format(chisq))\n",
    "    print('P値 = {:0.2f}'.format(p))\n",
    "    \n",
    "chi_test(0,5)\n",
    "chi_test(0,10)\n",
    "chi_test(11,15)\n",
    "chi_test(16,20)\n",
    "chi_test(21,100)"
   ]
  },
  {
   "cell_type": "markdown",
   "metadata": {},
   "source": [
    "# P値と検定結果の関係\n",
    "\n",
    "- P値小：カイ二乗統計量が大きく（=帰無仮説を想定した予想データと実体の乖離が非常に大きく）、P値が小さい(=たまたまこのように乖離することはP値%くらい低い確率)。帰無仮説は棄却され、「性によって生存率は変わる」と言える\n",
    "\n",
    "- P値大：カイ二乗統計量が小さく（=帰無仮説を想定した予想データと実体の乖離が小さく）、P値が大きい(=たまたまこれくらい以上乖離することもP値%くらいありえる)。帰無仮説は棄却されず、「性によって生存率は変わらない」のかもしれない。（それが正しいとは言っていない）"
   ]
  }
 ],
 "metadata": {
  "kernelspec": {
   "display_name": "Python 3",
   "language": "python",
   "name": "python3"
  },
  "language_info": {
   "codemirror_mode": {
    "name": "ipython",
    "version": 3
   },
   "file_extension": ".py",
   "mimetype": "text/x-python",
   "name": "python",
   "nbconvert_exporter": "python",
   "pygments_lexer": "ipython3",
   "version": "3.6.5"
  }
 },
 "nbformat": 4,
 "nbformat_minor": 2
}
